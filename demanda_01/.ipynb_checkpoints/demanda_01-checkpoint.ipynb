{
 "cells": [
  {
   "cell_type": "code",
   "execution_count": null,
   "id": "dee0bfc6-38aa-4adb-a030-3b873f03a940",
   "metadata": {},
   "outputs": [],
   "source": [
    "# Lendo o .csv com pandas"
   ]
  },
  {
   "cell_type": "code",
   "execution_count": 6,
   "id": "659d526e-30cc-46f9-8152-a1d59f6944f7",
   "metadata": {},
   "outputs": [
    {
     "name": "stdout",
     "output_type": "stream",
     "text": [
      "     id_cliente  idade  renda_mensal  score_credito  inadimplente\n",
      "0             1     56       1787.11            400             0\n",
      "1             2     69       5406.93            431             0\n",
      "2             3     46       3487.30            680             0\n",
      "3             4     32       2155.49            431             0\n",
      "4             5     60       3706.85            319             0\n",
      "..          ...    ...           ...            ...           ...\n",
      "995         996     60       5839.06            303             0\n",
      "996         997     64       3225.02            589             0\n",
      "997         998     62       4125.08            732             0\n",
      "998         999     35       6444.76            770             1\n",
      "999        1000     55       4254.33            480             0\n",
      "\n",
      "[1000 rows x 5 columns]\n"
     ]
    }
   ],
   "source": [
    "import pandas as pd\n",
    "\n",
    "df = pd.read_csv('clientes.csv')\n",
    "print(df)"
   ]
  },
  {
   "cell_type": "code",
   "execution_count": null,
   "id": "6a44a511-5dcd-4929-a4fc-721f9b75a28f",
   "metadata": {},
   "outputs": [],
   "source": [
    "## Quantos clientes estão inadimplentes?"
   ]
  },
  {
   "cell_type": "code",
   "execution_count": 11,
   "id": "5d0be6f8-b159-41fc-84bb-82f0e3222110",
   "metadata": {},
   "outputs": [
    {
     "name": "stdout",
     "output_type": "stream",
     "text": [
      "Número de inadimplentes: 198\n"
     ]
    }
   ],
   "source": [
    "qtde_inadimplentes = df[df['inadimplente'] == 1].shape[0]\n",
    "print(f'Número de inadimplentes: {qtde_inadimplentes}')"
   ]
  },
  {
   "cell_type": "code",
   "execution_count": null,
   "id": "b18a67a1-36ff-44e9-ad25-dd408f9f38f7",
   "metadata": {},
   "outputs": [],
   "source": [
    "## Qual a média de idade dos inadimplentes?"
   ]
  },
  {
   "cell_type": "code",
   "execution_count": 17,
   "id": "aed1ac25-e115-4153-9dc2-4a872f57dee7",
   "metadata": {},
   "outputs": [
    {
     "name": "stdout",
     "output_type": "stream",
     "text": [
      "Média de idade dos inadimplentes: 44.9 anos\n"
     ]
    }
   ],
   "source": [
    "media_idade_inadimplente = df[df['inadimplente'] == 1]['idade'].mean()\n",
    "print(f'Média de idade dos inadimplentes: {media_idade_inadimplente:.1f} anos')"
   ]
  },
  {
   "cell_type": "code",
   "execution_count": null,
   "id": "6b7096f3-95bb-4d57-97fd-b17b2c3d99ca",
   "metadata": {},
   "outputs": [],
   "source": [
    "## Qual a renda média dos inadimplentes? Faixa de 10 em 10 anos"
   ]
  },
  {
   "cell_type": "code",
   "execution_count": 18,
   "id": "c32dd187-d286-40c2-83d4-049ac1e49e0f",
   "metadata": {},
   "outputs": [
    {
     "name": "stdout",
     "output_type": "stream",
     "text": [
      "Renda média dos indadimplentes: R$ 5070.41\n"
     ]
    }
   ],
   "source": [
    "renda_media_inadimplentes = df[df['inadimplente'] == 1]['renda_mensal'].mean()\n",
    "print(f'Renda média dos indadimplentes: R$ {renda_media_inadimplentes:.2f}')"
   ]
  },
  {
   "cell_type": "code",
   "execution_count": null,
   "id": "fd876d0e-8f7d-46ff-a81d-f6fae21b76df",
   "metadata": {},
   "outputs": [],
   "source": [
    "## Existe alguma faixa etária que concentra mais inadimplentes? (Faixas de 10 em 10 anos)"
   ]
  },
  {
   "cell_type": "code",
   "execution_count": 26,
   "id": "41608953-fb94-46d7-8c36-59d05b03957a",
   "metadata": {},
   "outputs": [
    {
     "name": "stdout",
     "output_type": "stream",
     "text": [
      "Número de inadimplentes por faixa etária: \n",
      "faixa_etaria\n",
      "20-29    29\n",
      "30-39    32\n",
      "40-49    49\n",
      "50-59    29\n",
      "60-69    48\n",
      "70-79     0\n",
      "80-89     0\n",
      "90+       0\n",
      "\n",
      "A faixa etária maior é a de 40-49 anos, com 49 clientes.\n"
     ]
    }
   ],
   "source": [
    "# Criando faixas etárias: \n",
    "df['faixa_etaria'] = pd.cut(\n",
    "    df['idade'],\n",
    "    bins=range(20,101,10), # (idade minima, idade máxima, salto)\n",
    "    right=False, # inclui o 30 e exclui o 40 no range 30-39, por exemplo\n",
    "    labels=['20-29', '30-39', '40-49', '50-59','60-69', '70-79', '80-89', '90+']\n",
    ")\n",
    "\n",
    "# Contando inadimplentes por faixa: \n",
    "inadimplentes_por_faixa = df[df['inadimplente'] == 1]['faixa_etaria'].value_counts().sort_index()\n",
    "\n",
    "print('Número de inadimplentes por faixa etária: ')\n",
    "print(inadimplentes_por_faixa.to_string())\n",
    "\n",
    "# Encontrando a faixa com mais inadimplentes:\n",
    "faixa_maior_inadimplencia = inadimplentes_por_faixa.idxmax()\n",
    "total_maior_inadimplencia = inadimplentes_por_faixa.max()\n",
    "\n",
    "print(f'\\nA faixa etária maior é a de {faixa_maior} anos, com {total_maior} clientes.')"
   ]
  },
  {
   "cell_type": "code",
   "execution_count": null,
   "id": "0e3bc776-aea2-409b-b906-16c9a95a9626",
   "metadata": {},
   "outputs": [],
   "source": [
    "# Gerando relatório"
   ]
  },
  {
   "cell_type": "code",
   "execution_count": 31,
   "id": "7796842a-af30-444b-8d74-c45a79575bf8",
   "metadata": {},
   "outputs": [
    {
     "name": "stdout",
     "output_type": "stream",
     "text": [
      "\t\t## Relatório de análise simples de clientes ##\n",
      "\n",
      "Número de inadimplentes: 198\n",
      "Média de idade dos inadimplentes: 44.9 anos\n",
      "Renda média dos indadimplentes: R$ 5070.41\n",
      "A faixa etária maior é a de 40-49 anos, com 49 clientes.\n"
     ]
    }
   ],
   "source": [
    "print('\\t\\t## Relatório de análise simples de clientes ##')\n",
    "print(f'\\nNúmero de inadimplentes: {qtde_inadimplentes} clientes')\n",
    "print(f'Média de idade dos inadimplentes: {media_idade_inadimplente:.1f} anos')\n",
    "print(f'Renda média dos inadimplentes: R$ {renda_media_inadimplentes:.2f}')\n",
    "print(f'A faixa etária maior é a de {faixa_maior} anos, com {total_maior} clientes.')"
   ]
  },
  {
   "cell_type": "code",
   "execution_count": 39,
   "id": "80dbeecc-106d-43b9-b9bc-9877877e6a35",
   "metadata": {},
   "outputs": [],
   "source": [
    "# Instalando o pip"
   ]
  }
 ],
 "metadata": {
  "kernelspec": {
   "display_name": "Python 3 (ipykernel)",
   "language": "python",
   "name": "python3"
  },
  "language_info": {
   "codemirror_mode": {
    "name": "ipython",
    "version": 3
   },
   "file_extension": ".py",
   "mimetype": "text/x-python",
   "name": "python",
   "nbconvert_exporter": "python",
   "pygments_lexer": "ipython3",
   "version": "3.13.5"
  }
 },
 "nbformat": 4,
 "nbformat_minor": 5
}
